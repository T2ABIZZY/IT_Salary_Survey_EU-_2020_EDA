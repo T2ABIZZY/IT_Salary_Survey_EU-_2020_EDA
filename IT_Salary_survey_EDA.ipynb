{
 "cells": [
  {
   "cell_type": "code",
   "execution_count": 82,
   "id": "2da46820-e628-4d8a-9dac-7d9ff5650b59",
   "metadata": {},
   "outputs": [],
   "source": [
    "import numpy as np\n",
    "import seaborn as sns\n",
    "import matplotlib.pyplot as plt\n",
    "import pandas as pd\n",
    "\n",
    "import warnings as wr\n",
    "wr.filterwarnings(\"ignore\") #to ignore the warnings"
   ]
  },
  {
   "cell_type": "code",
   "execution_count": 83,
   "id": "3ae6735b-30b7-4ca8-828a-1cd1d060d19e",
   "metadata": {},
   "outputs": [
    {
     "data": {
      "text/plain": [
       "Timestamp                                                                                                                   object\n",
       "Age                                                                                                                        float64\n",
       "Gender                                                                                                                      object\n",
       "City                                                                                                                        object\n",
       "Position                                                                                                                    object\n",
       "Total years of experience                                                                                                   object\n",
       "Years of experience in Germany                                                                                              object\n",
       "Seniority level                                                                                                             object\n",
       "Your main technology / programming language                                                                                 object\n",
       "Other technologies/programming languages you use often                                                                      object\n",
       "Yearly brutto salary (without bonus and stocks) in EUR                                                                     float64\n",
       "Yearly bonus + stocks in EUR                                                                                                object\n",
       "Annual brutto salary (without bonus and stocks) one year ago. Only answer if staying in the same country                   float64\n",
       "Annual bonus+stocks one year ago. Only answer if staying in same country                                                    object\n",
       "Number of vacation days                                                                                                     object\n",
       "Employment status                                                                                                           object\n",
       "Сontract duration                                                                                                           object\n",
       "Main language at work                                                                                                       object\n",
       "Company size                                                                                                                object\n",
       "Company type                                                                                                                object\n",
       "Have you lost your job due to the coronavirus outbreak?                                                                     object\n",
       "Have you been forced to have a shorter working week (Kurzarbeit)? If yes, how many hours per week                          float64\n",
       "Have you received additional monetary support from your employer due to Work From Home? If yes, how much in 2020 in EUR     object\n",
       "dtype: object"
      ]
     },
     "execution_count": 83,
     "metadata": {},
     "output_type": "execute_result"
    }
   ],
   "source": [
    "df_raw = pd.read_csv(r\"C:\\Users\\T2ABIZZ\\Documents\\Datasets\\IT_SALARY_SURVEY\\IT_Salary_Survey_EU _2020.csv\")\n",
    "df = df_raw.copy()\n",
    "df.dtypes"
   ]
  },
  {
   "cell_type": "markdown",
   "id": "718cdca1-c2ea-4fe1-a48d-f267aa20d604",
   "metadata": {},
   "source": [
    "as we can see there is columns that is object and should be float, So we must convert them."
   ]
  },
  {
   "cell_type": "markdown",
   "id": "d06532ff",
   "metadata": {},
   "source": [
    "# Cleaning the dataset"
   ]
  },
  {
   "cell_type": "code",
   "execution_count": null,
   "id": "91789443",
   "metadata": {},
   "outputs": [],
   "source": [
    "df = df_raw.replace(',', '.', regex=True)"
   ]
  },
  {
   "cell_type": "code",
   "execution_count": 105,
   "id": "61ab165d",
   "metadata": {},
   "outputs": [
    {
     "data": {
      "text/html": [
       "<div>\n",
       "<style scoped>\n",
       "    .dataframe tbody tr th:only-of-type {\n",
       "        vertical-align: middle;\n",
       "    }\n",
       "\n",
       "    .dataframe tbody tr th {\n",
       "        vertical-align: top;\n",
       "    }\n",
       "\n",
       "    .dataframe thead th {\n",
       "        text-align: right;\n",
       "    }\n",
       "</style>\n",
       "<table border=\"1\" class=\"dataframe\">\n",
       "  <thead>\n",
       "    <tr style=\"text-align: right;\">\n",
       "      <th></th>\n",
       "      <th>Timestamp</th>\n",
       "      <th>Age</th>\n",
       "      <th>Gender</th>\n",
       "      <th>City</th>\n",
       "      <th>Position</th>\n",
       "      <th>Total years of experience</th>\n",
       "      <th>Years of experience in Germany</th>\n",
       "      <th>Seniority level</th>\n",
       "      <th>Your main technology / programming language</th>\n",
       "      <th>Other technologies/programming languages you use often</th>\n",
       "      <th>...</th>\n",
       "      <th>Annual bonus+stocks one year ago. Only answer if staying in same country</th>\n",
       "      <th>Number of vacation days</th>\n",
       "      <th>Employment status</th>\n",
       "      <th>Сontract duration</th>\n",
       "      <th>Main language at work</th>\n",
       "      <th>Company size</th>\n",
       "      <th>Company type</th>\n",
       "      <th>Have you lost your job due to the coronavirus outbreak?</th>\n",
       "      <th>Have you been forced to have a shorter working week (Kurzarbeit)? If yes, how many hours per week</th>\n",
       "      <th>Have you received additional monetary support from your employer due to Work From Home? If yes, how much in 2020 in EUR</th>\n",
       "    </tr>\n",
       "  </thead>\n",
       "  <tbody>\n",
       "    <tr>\n",
       "      <th>343</th>\n",
       "      <td>24/11/2020 17:43:34</td>\n",
       "      <td>45.0</td>\n",
       "      <td>Male</td>\n",
       "      <td>Munich</td>\n",
       "      <td>Frontend Developer</td>\n",
       "      <td>3</td>\n",
       "      <td>&lt; 1</td>\n",
       "      <td>Senior</td>\n",
       "      <td>Javascript / Typescript</td>\n",
       "      <td>NaN</td>\n",
       "      <td>...</td>\n",
       "      <td>NaN</td>\n",
       "      <td>25</td>\n",
       "      <td>Full-time employee</td>\n",
       "      <td>Unlimited contract</td>\n",
       "      <td>Russian</td>\n",
       "      <td>11-50</td>\n",
       "      <td>Startup</td>\n",
       "      <td>Yes</td>\n",
       "      <td>NaN</td>\n",
       "      <td>NaN</td>\n",
       "    </tr>\n",
       "    <tr>\n",
       "      <th>392</th>\n",
       "      <td>24/11/2020 19:14:03</td>\n",
       "      <td>37.0</td>\n",
       "      <td>Male</td>\n",
       "      <td>Zurich</td>\n",
       "      <td>Project manager</td>\n",
       "      <td>20</td>\n",
       "      <td>4 (in Switzerland). 0 (in Germany)</td>\n",
       "      <td>Middle</td>\n",
       "      <td>NaN</td>\n",
       "      <td>NaN</td>\n",
       "      <td>...</td>\n",
       "      <td>10000</td>\n",
       "      <td>25</td>\n",
       "      <td>Full-time employee</td>\n",
       "      <td>Unlimited contract</td>\n",
       "      <td>English</td>\n",
       "      <td>1000+</td>\n",
       "      <td>Consulting / Agency</td>\n",
       "      <td>No</td>\n",
       "      <td>NaN</td>\n",
       "      <td>300</td>\n",
       "    </tr>\n",
       "    <tr>\n",
       "      <th>618</th>\n",
       "      <td>25/11/2020 14:56:08</td>\n",
       "      <td>23.0</td>\n",
       "      <td>Male</td>\n",
       "      <td>Berlin</td>\n",
       "      <td>Dana Analyst</td>\n",
       "      <td>4</td>\n",
       "      <td>4 month</td>\n",
       "      <td>Middle</td>\n",
       "      <td>NaN</td>\n",
       "      <td>Python. SQL</td>\n",
       "      <td>...</td>\n",
       "      <td>NaN</td>\n",
       "      <td>26</td>\n",
       "      <td>Full-time employee</td>\n",
       "      <td>Unlimited contract</td>\n",
       "      <td>English</td>\n",
       "      <td>11-50</td>\n",
       "      <td>Product</td>\n",
       "      <td>No</td>\n",
       "      <td>NaN</td>\n",
       "      <td>NaN</td>\n",
       "    </tr>\n",
       "    <tr>\n",
       "      <th>750</th>\n",
       "      <td>26/11/2020 10:07:39</td>\n",
       "      <td>25.0</td>\n",
       "      <td>Female</td>\n",
       "      <td>Tampere (Finland)</td>\n",
       "      <td>computer vision researcher</td>\n",
       "      <td>3</td>\n",
       "      <td>3 months</td>\n",
       "      <td>Junior</td>\n",
       "      <td>Python</td>\n",
       "      <td>Python. Tensorflow. Theano. Pytorch</td>\n",
       "      <td>...</td>\n",
       "      <td>NaN</td>\n",
       "      <td>30</td>\n",
       "      <td>Full-time employee</td>\n",
       "      <td>Temporary contract</td>\n",
       "      <td>English</td>\n",
       "      <td>51-100</td>\n",
       "      <td>Science Institute</td>\n",
       "      <td>No</td>\n",
       "      <td>NaN</td>\n",
       "      <td>NaN</td>\n",
       "    </tr>\n",
       "    <tr>\n",
       "      <th>847</th>\n",
       "      <td>27/11/2020 14:14:20</td>\n",
       "      <td>28.0</td>\n",
       "      <td>Male</td>\n",
       "      <td>Warsaw. Poland</td>\n",
       "      <td>Software Engineer</td>\n",
       "      <td>6</td>\n",
       "      <td>3 (in Poland)</td>\n",
       "      <td>Middle</td>\n",
       "      <td>C#</td>\n",
       "      <td>Javascript / Typescript. .NET. SQL</td>\n",
       "      <td>...</td>\n",
       "      <td>3900</td>\n",
       "      <td>26</td>\n",
       "      <td>Full-time employee</td>\n",
       "      <td>Unlimited contract</td>\n",
       "      <td>English</td>\n",
       "      <td>51-100</td>\n",
       "      <td>Consulting / Agency</td>\n",
       "      <td>No</td>\n",
       "      <td>NaN</td>\n",
       "      <td>0</td>\n",
       "    </tr>\n",
       "    <tr>\n",
       "      <th>867</th>\n",
       "      <td>27/11/2020 18:27:25</td>\n",
       "      <td>23.0</td>\n",
       "      <td>Male</td>\n",
       "      <td>Munich</td>\n",
       "      <td>ML Engineer</td>\n",
       "      <td>1</td>\n",
       "      <td>&lt;1</td>\n",
       "      <td>Junior</td>\n",
       "      <td>Python</td>\n",
       "      <td>C/C++. SQL. Google Cloud. Docker</td>\n",
       "      <td>...</td>\n",
       "      <td>NaN</td>\n",
       "      <td>NaN</td>\n",
       "      <td>Full-time employee</td>\n",
       "      <td>Unlimited contract</td>\n",
       "      <td>English</td>\n",
       "      <td>101-1000</td>\n",
       "      <td>Product</td>\n",
       "      <td>Yes</td>\n",
       "      <td>NaN</td>\n",
       "      <td>NaN</td>\n",
       "    </tr>\n",
       "    <tr>\n",
       "      <th>883</th>\n",
       "      <td>28/11/2020 05:36:11</td>\n",
       "      <td>27.0</td>\n",
       "      <td>Male</td>\n",
       "      <td>Hamburg</td>\n",
       "      <td>Backend Developer</td>\n",
       "      <td>3</td>\n",
       "      <td>⁰</td>\n",
       "      <td>Middle</td>\n",
       "      <td>.net</td>\n",
       "      <td>Javascript / Typescript. .NET. SQL. Docker</td>\n",
       "      <td>...</td>\n",
       "      <td>NaN</td>\n",
       "      <td>NaN</td>\n",
       "      <td>Part-time employee</td>\n",
       "      <td>Temporary contract</td>\n",
       "      <td>English</td>\n",
       "      <td>11-50</td>\n",
       "      <td>Consulting / Agency</td>\n",
       "      <td>No</td>\n",
       "      <td>NaN</td>\n",
       "      <td>NaN</td>\n",
       "    </tr>\n",
       "    <tr>\n",
       "      <th>1052</th>\n",
       "      <td>02/12/2020 10:35:10</td>\n",
       "      <td>22.0</td>\n",
       "      <td>Female</td>\n",
       "      <td>Eindhoven</td>\n",
       "      <td>Frontend Developer</td>\n",
       "      <td>2</td>\n",
       "      <td>-</td>\n",
       "      <td>Junior</td>\n",
       "      <td>JS</td>\n",
       "      <td>Javascript / Typescript. SQL. Docker</td>\n",
       "      <td>...</td>\n",
       "      <td>-</td>\n",
       "      <td>24</td>\n",
       "      <td>Full-time employee</td>\n",
       "      <td>Unlimited contract</td>\n",
       "      <td>English</td>\n",
       "      <td>11-50</td>\n",
       "      <td>Product</td>\n",
       "      <td>Laid off for a bit</td>\n",
       "      <td>32.0</td>\n",
       "      <td>-</td>\n",
       "    </tr>\n",
       "    <tr>\n",
       "      <th>1089</th>\n",
       "      <td>05/12/2020 12:18:41</td>\n",
       "      <td>31.0</td>\n",
       "      <td>Male</td>\n",
       "      <td>Hamburg</td>\n",
       "      <td>Data Scientist</td>\n",
       "      <td>6 (not as a data scientist. but as a lab scien...</td>\n",
       "      <td>6 (not as a data scientist. but as a lab scien...</td>\n",
       "      <td>Middle</td>\n",
       "      <td>Python</td>\n",
       "      <td>Python. R. SQL</td>\n",
       "      <td>...</td>\n",
       "      <td>NaN</td>\n",
       "      <td>NaN</td>\n",
       "      <td>Full-time employee</td>\n",
       "      <td>Unlimited contract</td>\n",
       "      <td>German</td>\n",
       "      <td>1000+</td>\n",
       "      <td>Product</td>\n",
       "      <td>No</td>\n",
       "      <td>NaN</td>\n",
       "      <td>NaN</td>\n",
       "    </tr>\n",
       "    <tr>\n",
       "      <th>1209</th>\n",
       "      <td>28/12/2020 22:24:47</td>\n",
       "      <td>24.0</td>\n",
       "      <td>Female</td>\n",
       "      <td>Munich</td>\n",
       "      <td>Software Engineer</td>\n",
       "      <td>less than year</td>\n",
       "      <td>less than year</td>\n",
       "      <td>student</td>\n",
       "      <td>Python. database technologies</td>\n",
       "      <td>Python. Java / Scala. SQL. AWS</td>\n",
       "      <td>...</td>\n",
       "      <td>NaN</td>\n",
       "      <td>10</td>\n",
       "      <td>Part-time employee</td>\n",
       "      <td>Unlimited contract</td>\n",
       "      <td>English</td>\n",
       "      <td>11-50</td>\n",
       "      <td>Startup</td>\n",
       "      <td>No</td>\n",
       "      <td>NaN</td>\n",
       "      <td>NaN</td>\n",
       "    </tr>\n",
       "  </tbody>\n",
       "</table>\n",
       "<p>10 rows × 23 columns</p>\n",
       "</div>"
      ],
      "text/plain": [
       "                Timestamp   Age  Gender               City  \\\n",
       "343   24/11/2020 17:43:34  45.0    Male             Munich   \n",
       "392   24/11/2020 19:14:03  37.0    Male             Zurich   \n",
       "618   25/11/2020 14:56:08  23.0    Male             Berlin   \n",
       "750   26/11/2020 10:07:39  25.0  Female  Tampere (Finland)   \n",
       "847   27/11/2020 14:14:20  28.0    Male     Warsaw. Poland   \n",
       "867   27/11/2020 18:27:25  23.0    Male             Munich   \n",
       "883   28/11/2020 05:36:11  27.0    Male            Hamburg   \n",
       "1052  02/12/2020 10:35:10  22.0  Female          Eindhoven   \n",
       "1089  05/12/2020 12:18:41  31.0    Male            Hamburg   \n",
       "1209  28/12/2020 22:24:47  24.0  Female             Munich   \n",
       "\n",
       "                       Position   \\\n",
       "343           Frontend Developer   \n",
       "392              Project manager   \n",
       "618                 Dana Analyst   \n",
       "750   computer vision researcher   \n",
       "847            Software Engineer   \n",
       "867                  ML Engineer   \n",
       "883            Backend Developer   \n",
       "1052          Frontend Developer   \n",
       "1089              Data Scientist   \n",
       "1209           Software Engineer   \n",
       "\n",
       "                              Total years of experience  \\\n",
       "343                                                   3   \n",
       "392                                                  20   \n",
       "618                                                   4   \n",
       "750                                                   3   \n",
       "847                                                   6   \n",
       "867                                                   1   \n",
       "883                                                   3   \n",
       "1052                                                  2   \n",
       "1089  6 (not as a data scientist. but as a lab scien...   \n",
       "1209                                     less than year   \n",
       "\n",
       "                         Years of experience in Germany Seniority level  \\\n",
       "343                                                 < 1          Senior   \n",
       "392                  4 (in Switzerland). 0 (in Germany)          Middle   \n",
       "618                                             4 month          Middle   \n",
       "750                                            3 months          Junior   \n",
       "847                                       3 (in Poland)          Middle   \n",
       "867                                                  <1          Junior   \n",
       "883                                                   ⁰          Middle   \n",
       "1052                                                  -          Junior   \n",
       "1089  6 (not as a data scientist. but as a lab scien...          Middle   \n",
       "1209                                     less than year         student   \n",
       "\n",
       "     Your main technology / programming language  \\\n",
       "343                      Javascript / Typescript   \n",
       "392                                          NaN   \n",
       "618                                          NaN   \n",
       "750                                       Python   \n",
       "847                                           C#   \n",
       "867                                       Python   \n",
       "883                                         .net   \n",
       "1052                                          JS   \n",
       "1089                                      Python   \n",
       "1209               Python. database technologies   \n",
       "\n",
       "     Other technologies/programming languages you use often  ...  \\\n",
       "343                                                 NaN      ...   \n",
       "392                                                 NaN      ...   \n",
       "618                                         Python. SQL      ...   \n",
       "750                 Python. Tensorflow. Theano. Pytorch      ...   \n",
       "847                  Javascript / Typescript. .NET. SQL      ...   \n",
       "867                    C/C++. SQL. Google Cloud. Docker      ...   \n",
       "883          Javascript / Typescript. .NET. SQL. Docker      ...   \n",
       "1052               Javascript / Typescript. SQL. Docker      ...   \n",
       "1089                                     Python. R. SQL      ...   \n",
       "1209                     Python. Java / Scala. SQL. AWS      ...   \n",
       "\n",
       "      Annual bonus+stocks one year ago. Only answer if staying in same country  \\\n",
       "343                                                 NaN                          \n",
       "392                                               10000                          \n",
       "618                                                 NaN                          \n",
       "750                                                 NaN                          \n",
       "847                                                3900                          \n",
       "867                                                 NaN                          \n",
       "883                                                 NaN                          \n",
       "1052                                                  -                          \n",
       "1089                                                NaN                          \n",
       "1209                                                NaN                          \n",
       "\n",
       "     Number of vacation days   Employment status   Сontract duration  \\\n",
       "343                       25  Full-time employee  Unlimited contract   \n",
       "392                       25  Full-time employee  Unlimited contract   \n",
       "618                       26  Full-time employee  Unlimited contract   \n",
       "750                       30  Full-time employee  Temporary contract   \n",
       "847                       26  Full-time employee  Unlimited contract   \n",
       "867                      NaN  Full-time employee  Unlimited contract   \n",
       "883                      NaN  Part-time employee  Temporary contract   \n",
       "1052                      24  Full-time employee  Unlimited contract   \n",
       "1089                     NaN  Full-time employee  Unlimited contract   \n",
       "1209                      10  Part-time employee  Unlimited contract   \n",
       "\n",
       "     Main language at work Company size         Company type  \\\n",
       "343                Russian        11-50              Startup   \n",
       "392                English        1000+  Consulting / Agency   \n",
       "618                English        11-50              Product   \n",
       "750                English       51-100   Science Institute    \n",
       "847                English       51-100  Consulting / Agency   \n",
       "867                English     101-1000              Product   \n",
       "883                English        11-50  Consulting / Agency   \n",
       "1052               English        11-50              Product   \n",
       "1089                German        1000+              Product   \n",
       "1209               English        11-50              Startup   \n",
       "\n",
       "     Have you lost your job due to the coronavirus outbreak?  \\\n",
       "343                                                 Yes        \n",
       "392                                                  No        \n",
       "618                                                  No        \n",
       "750                                                  No        \n",
       "847                                                  No        \n",
       "867                                                 Yes        \n",
       "883                                                  No        \n",
       "1052                                 Laid off for a bit        \n",
       "1089                                                 No        \n",
       "1209                                                 No        \n",
       "\n",
       "     Have you been forced to have a shorter working week (Kurzarbeit)? If yes, how many hours per week  \\\n",
       "343                                                 NaN                                                  \n",
       "392                                                 NaN                                                  \n",
       "618                                                 NaN                                                  \n",
       "750                                                 NaN                                                  \n",
       "847                                                 NaN                                                  \n",
       "867                                                 NaN                                                  \n",
       "883                                                 NaN                                                  \n",
       "1052                                               32.0                                                  \n",
       "1089                                                NaN                                                  \n",
       "1209                                                NaN                                                  \n",
       "\n",
       "     Have you received additional monetary support from your employer due to Work From Home? If yes, how much in 2020 in EUR  \n",
       "343                                                 NaN                                                                       \n",
       "392                                                 300                                                                       \n",
       "618                                                 NaN                                                                       \n",
       "750                                                 NaN                                                                       \n",
       "847                                                   0                                                                       \n",
       "867                                                 NaN                                                                       \n",
       "883                                                 NaN                                                                       \n",
       "1052                                                  -                                                                       \n",
       "1089                                                NaN                                                                       \n",
       "1209                                                NaN                                                                       \n",
       "\n",
       "[10 rows x 23 columns]"
      ]
     },
     "execution_count": 105,
     "metadata": {},
     "output_type": "execute_result"
    }
   ],
   "source": [
    "a = pd.to_numeric(df[\"Years of experience in Germany\"], errors='coerce')\n",
    "idx = a.isna()\n",
    "df[idx]"
   ]
  },
  {
   "cell_type": "code",
   "execution_count": 99,
   "id": "91969569",
   "metadata": {},
   "outputs": [],
   "source": [
    "df['Total years of experience'].fillna(df['Years of experience in Germany'], inplace=True)\n",
    "df['Years of experience in Germany'].fillna(df['Total years of experience'], inplace=True)"
   ]
  },
  {
   "cell_type": "code",
   "execution_count": 104,
   "id": "97935d7a",
   "metadata": {},
   "outputs": [
    {
     "data": {
      "text/plain": [
       "0"
      ]
     },
     "execution_count": 104,
     "metadata": {},
     "output_type": "execute_result"
    }
   ],
   "source": [
    "df[\"Years of experience in Germany\"].isna().sum()"
   ]
  },
  {
   "cell_type": "code",
   "execution_count": 103,
   "id": "b132b1d0",
   "metadata": {},
   "outputs": [],
   "source": [
    "df.dropna(subset=[\"Total years of experience\",\"Years of experience in Germany\"],how=\"all\",inplace=True)"
   ]
  },
  {
   "cell_type": "code",
   "execution_count": 15,
   "id": "68bdf756-c369-4087-91cf-a1820dfe2c9d",
   "metadata": {},
   "outputs": [
    {
     "ename": "ValueError",
     "evalue": "could not convert string to float: '1,5': Error while type casting for column 'Total years of experience'",
     "output_type": "error",
     "traceback": [
      "\u001b[1;31m---------------------------------------------------------------------------\u001b[0m",
      "\u001b[1;31mValueError\u001b[0m                                Traceback (most recent call last)",
      "Cell \u001b[1;32mIn[15], line 1\u001b[0m\n\u001b[1;32m----> 1\u001b[0m df \u001b[39m=\u001b[39m df\u001b[39m.\u001b[39;49mastype({\n\u001b[0;32m      2\u001b[0m     \u001b[39m\"\u001b[39;49m\u001b[39mTotal years of experience\u001b[39;49m\u001b[39m\"\u001b[39;49m:\u001b[39m\"\u001b[39;49m\u001b[39mfloat64\u001b[39;49m\u001b[39m\"\u001b[39;49m,\n\u001b[0;32m      3\u001b[0m     \u001b[39m\"\u001b[39;49m\u001b[39mYears of experience in Germany\u001b[39;49m\u001b[39m\"\u001b[39;49m:\u001b[39m\"\u001b[39;49m\u001b[39mfloat64\u001b[39;49m\u001b[39m\"\u001b[39;49m,\n\u001b[0;32m      4\u001b[0m     \u001b[39m\"\u001b[39;49m\u001b[39mTotal years of experience\u001b[39;49m\u001b[39m\"\u001b[39;49m:\u001b[39m'\u001b[39;49m\u001b[39mfloat64\u001b[39;49m\u001b[39m'\u001b[39;49m,\n\u001b[0;32m      5\u001b[0m     \u001b[39m\"\u001b[39;49m\u001b[39mAnnual brutto salary (without bonus and stocks) one year ago. Only answer if staying in the same country\u001b[39;49m\u001b[39m\"\u001b[39;49m:\u001b[39m\"\u001b[39;49m\u001b[39mfloat64\u001b[39;49m\u001b[39m\"\u001b[39;49m,\n\u001b[0;32m      6\u001b[0m     \u001b[39m\"\u001b[39;49m\u001b[39mMain language at work\u001b[39;49m\u001b[39m\"\u001b[39;49m:\u001b[39m'\u001b[39;49m\u001b[39mcategory\u001b[39;49m\u001b[39m'\u001b[39;49m,\n\u001b[0;32m      7\u001b[0m \n\u001b[0;32m      8\u001b[0m  })\n",
      "File \u001b[1;32mc:\\Users\\T2ABIZZ\\miniconda3\\envs\\minimal_DS\\lib\\site-packages\\pandas\\core\\generic.py:6305\u001b[0m, in \u001b[0;36mNDFrame.astype\u001b[1;34m(self, dtype, copy, errors)\u001b[0m\n\u001b[0;32m   6303\u001b[0m \u001b[39melse\u001b[39;00m:\n\u001b[0;32m   6304\u001b[0m     \u001b[39mtry\u001b[39;00m:\n\u001b[1;32m-> 6305\u001b[0m         res_col \u001b[39m=\u001b[39m col\u001b[39m.\u001b[39;49mastype(dtype\u001b[39m=\u001b[39;49mcdt, copy\u001b[39m=\u001b[39;49mcopy, errors\u001b[39m=\u001b[39;49merrors)\n\u001b[0;32m   6306\u001b[0m     \u001b[39mexcept\u001b[39;00m \u001b[39mValueError\u001b[39;00m \u001b[39mas\u001b[39;00m ex:\n\u001b[0;32m   6307\u001b[0m         ex\u001b[39m.\u001b[39margs \u001b[39m=\u001b[39m (\n\u001b[0;32m   6308\u001b[0m             \u001b[39mf\u001b[39m\u001b[39m\"\u001b[39m\u001b[39m{\u001b[39;00mex\u001b[39m}\u001b[39;00m\u001b[39m: Error while type casting for column \u001b[39m\u001b[39m'\u001b[39m\u001b[39m{\u001b[39;00mcol_name\u001b[39m}\u001b[39;00m\u001b[39m'\u001b[39m\u001b[39m\"\u001b[39m,\n\u001b[0;32m   6309\u001b[0m         )\n",
      "File \u001b[1;32mc:\\Users\\T2ABIZZ\\miniconda3\\envs\\minimal_DS\\lib\\site-packages\\pandas\\core\\generic.py:6324\u001b[0m, in \u001b[0;36mNDFrame.astype\u001b[1;34m(self, dtype, copy, errors)\u001b[0m\n\u001b[0;32m   6317\u001b[0m     results \u001b[39m=\u001b[39m [\n\u001b[0;32m   6318\u001b[0m         \u001b[39mself\u001b[39m\u001b[39m.\u001b[39miloc[:, i]\u001b[39m.\u001b[39mastype(dtype, copy\u001b[39m=\u001b[39mcopy)\n\u001b[0;32m   6319\u001b[0m         \u001b[39mfor\u001b[39;00m i \u001b[39min\u001b[39;00m \u001b[39mrange\u001b[39m(\u001b[39mlen\u001b[39m(\u001b[39mself\u001b[39m\u001b[39m.\u001b[39mcolumns))\n\u001b[0;32m   6320\u001b[0m     ]\n\u001b[0;32m   6322\u001b[0m \u001b[39melse\u001b[39;00m:\n\u001b[0;32m   6323\u001b[0m     \u001b[39m# else, only a single dtype is given\u001b[39;00m\n\u001b[1;32m-> 6324\u001b[0m     new_data \u001b[39m=\u001b[39m \u001b[39mself\u001b[39;49m\u001b[39m.\u001b[39;49m_mgr\u001b[39m.\u001b[39;49mastype(dtype\u001b[39m=\u001b[39;49mdtype, copy\u001b[39m=\u001b[39;49mcopy, errors\u001b[39m=\u001b[39;49merrors)\n\u001b[0;32m   6325\u001b[0m     \u001b[39mreturn\u001b[39;00m \u001b[39mself\u001b[39m\u001b[39m.\u001b[39m_constructor(new_data)\u001b[39m.\u001b[39m__finalize__(\u001b[39mself\u001b[39m, method\u001b[39m=\u001b[39m\u001b[39m\"\u001b[39m\u001b[39mastype\u001b[39m\u001b[39m\"\u001b[39m)\n\u001b[0;32m   6327\u001b[0m \u001b[39m# GH 33113: handle empty frame or series\u001b[39;00m\n",
      "File \u001b[1;32mc:\\Users\\T2ABIZZ\\miniconda3\\envs\\minimal_DS\\lib\\site-packages\\pandas\\core\\internals\\managers.py:451\u001b[0m, in \u001b[0;36mBaseBlockManager.astype\u001b[1;34m(self, dtype, copy, errors)\u001b[0m\n\u001b[0;32m    448\u001b[0m \u001b[39melif\u001b[39;00m using_copy_on_write():\n\u001b[0;32m    449\u001b[0m     copy \u001b[39m=\u001b[39m \u001b[39mFalse\u001b[39;00m\n\u001b[1;32m--> 451\u001b[0m \u001b[39mreturn\u001b[39;00m \u001b[39mself\u001b[39;49m\u001b[39m.\u001b[39;49mapply(\n\u001b[0;32m    452\u001b[0m     \u001b[39m\"\u001b[39;49m\u001b[39mastype\u001b[39;49m\u001b[39m\"\u001b[39;49m,\n\u001b[0;32m    453\u001b[0m     dtype\u001b[39m=\u001b[39;49mdtype,\n\u001b[0;32m    454\u001b[0m     copy\u001b[39m=\u001b[39;49mcopy,\n\u001b[0;32m    455\u001b[0m     errors\u001b[39m=\u001b[39;49merrors,\n\u001b[0;32m    456\u001b[0m     using_cow\u001b[39m=\u001b[39;49musing_copy_on_write(),\n\u001b[0;32m    457\u001b[0m )\n",
      "File \u001b[1;32mc:\\Users\\T2ABIZZ\\miniconda3\\envs\\minimal_DS\\lib\\site-packages\\pandas\\core\\internals\\managers.py:352\u001b[0m, in \u001b[0;36mBaseBlockManager.apply\u001b[1;34m(self, f, align_keys, **kwargs)\u001b[0m\n\u001b[0;32m    350\u001b[0m         applied \u001b[39m=\u001b[39m b\u001b[39m.\u001b[39mapply(f, \u001b[39m*\u001b[39m\u001b[39m*\u001b[39mkwargs)\n\u001b[0;32m    351\u001b[0m     \u001b[39melse\u001b[39;00m:\n\u001b[1;32m--> 352\u001b[0m         applied \u001b[39m=\u001b[39m \u001b[39mgetattr\u001b[39m(b, f)(\u001b[39m*\u001b[39m\u001b[39m*\u001b[39mkwargs)\n\u001b[0;32m    353\u001b[0m     result_blocks \u001b[39m=\u001b[39m extend_blocks(applied, result_blocks)\n\u001b[0;32m    355\u001b[0m out \u001b[39m=\u001b[39m \u001b[39mtype\u001b[39m(\u001b[39mself\u001b[39m)\u001b[39m.\u001b[39mfrom_blocks(result_blocks, \u001b[39mself\u001b[39m\u001b[39m.\u001b[39maxes)\n",
      "File \u001b[1;32mc:\\Users\\T2ABIZZ\\miniconda3\\envs\\minimal_DS\\lib\\site-packages\\pandas\\core\\internals\\blocks.py:511\u001b[0m, in \u001b[0;36mBlock.astype\u001b[1;34m(self, dtype, copy, errors, using_cow)\u001b[0m\n\u001b[0;32m    491\u001b[0m \u001b[39m\u001b[39m\u001b[39m\"\"\"\u001b[39;00m\n\u001b[0;32m    492\u001b[0m \u001b[39mCoerce to the new dtype.\u001b[39;00m\n\u001b[0;32m    493\u001b[0m \n\u001b[1;32m   (...)\u001b[0m\n\u001b[0;32m    507\u001b[0m \u001b[39mBlock\u001b[39;00m\n\u001b[0;32m    508\u001b[0m \u001b[39m\"\"\"\u001b[39;00m\n\u001b[0;32m    509\u001b[0m values \u001b[39m=\u001b[39m \u001b[39mself\u001b[39m\u001b[39m.\u001b[39mvalues\n\u001b[1;32m--> 511\u001b[0m new_values \u001b[39m=\u001b[39m astype_array_safe(values, dtype, copy\u001b[39m=\u001b[39;49mcopy, errors\u001b[39m=\u001b[39;49merrors)\n\u001b[0;32m    513\u001b[0m new_values \u001b[39m=\u001b[39m maybe_coerce_values(new_values)\n\u001b[0;32m    515\u001b[0m refs \u001b[39m=\u001b[39m \u001b[39mNone\u001b[39;00m\n",
      "File \u001b[1;32mc:\\Users\\T2ABIZZ\\miniconda3\\envs\\minimal_DS\\lib\\site-packages\\pandas\\core\\dtypes\\astype.py:242\u001b[0m, in \u001b[0;36mastype_array_safe\u001b[1;34m(values, dtype, copy, errors)\u001b[0m\n\u001b[0;32m    239\u001b[0m     dtype \u001b[39m=\u001b[39m dtype\u001b[39m.\u001b[39mnumpy_dtype\n\u001b[0;32m    241\u001b[0m \u001b[39mtry\u001b[39;00m:\n\u001b[1;32m--> 242\u001b[0m     new_values \u001b[39m=\u001b[39m astype_array(values, dtype, copy\u001b[39m=\u001b[39;49mcopy)\n\u001b[0;32m    243\u001b[0m \u001b[39mexcept\u001b[39;00m (\u001b[39mValueError\u001b[39;00m, \u001b[39mTypeError\u001b[39;00m):\n\u001b[0;32m    244\u001b[0m     \u001b[39m# e.g. _astype_nansafe can fail on object-dtype of strings\u001b[39;00m\n\u001b[0;32m    245\u001b[0m     \u001b[39m#  trying to convert to float\u001b[39;00m\n\u001b[0;32m    246\u001b[0m     \u001b[39mif\u001b[39;00m errors \u001b[39m==\u001b[39m \u001b[39m\"\u001b[39m\u001b[39mignore\u001b[39m\u001b[39m\"\u001b[39m:\n",
      "File \u001b[1;32mc:\\Users\\T2ABIZZ\\miniconda3\\envs\\minimal_DS\\lib\\site-packages\\pandas\\core\\dtypes\\astype.py:187\u001b[0m, in \u001b[0;36mastype_array\u001b[1;34m(values, dtype, copy)\u001b[0m\n\u001b[0;32m    184\u001b[0m     values \u001b[39m=\u001b[39m values\u001b[39m.\u001b[39mastype(dtype, copy\u001b[39m=\u001b[39mcopy)\n\u001b[0;32m    186\u001b[0m \u001b[39melse\u001b[39;00m:\n\u001b[1;32m--> 187\u001b[0m     values \u001b[39m=\u001b[39m _astype_nansafe(values, dtype, copy\u001b[39m=\u001b[39;49mcopy)\n\u001b[0;32m    189\u001b[0m \u001b[39m# in pandas we don't store numpy str dtypes, so convert to object\u001b[39;00m\n\u001b[0;32m    190\u001b[0m \u001b[39mif\u001b[39;00m \u001b[39misinstance\u001b[39m(dtype, np\u001b[39m.\u001b[39mdtype) \u001b[39mand\u001b[39;00m \u001b[39missubclass\u001b[39m(values\u001b[39m.\u001b[39mdtype\u001b[39m.\u001b[39mtype, \u001b[39mstr\u001b[39m):\n",
      "File \u001b[1;32mc:\\Users\\T2ABIZZ\\miniconda3\\envs\\minimal_DS\\lib\\site-packages\\pandas\\core\\dtypes\\astype.py:138\u001b[0m, in \u001b[0;36m_astype_nansafe\u001b[1;34m(arr, dtype, copy, skipna)\u001b[0m\n\u001b[0;32m    134\u001b[0m     \u001b[39mraise\u001b[39;00m \u001b[39mValueError\u001b[39;00m(msg)\n\u001b[0;32m    136\u001b[0m \u001b[39mif\u001b[39;00m copy \u001b[39mor\u001b[39;00m is_object_dtype(arr\u001b[39m.\u001b[39mdtype) \u001b[39mor\u001b[39;00m is_object_dtype(dtype):\n\u001b[0;32m    137\u001b[0m     \u001b[39m# Explicit copy, or required since NumPy can't view from / to object.\u001b[39;00m\n\u001b[1;32m--> 138\u001b[0m     \u001b[39mreturn\u001b[39;00m arr\u001b[39m.\u001b[39;49mastype(dtype, copy\u001b[39m=\u001b[39;49m\u001b[39mTrue\u001b[39;49;00m)\n\u001b[0;32m    140\u001b[0m \u001b[39mreturn\u001b[39;00m arr\u001b[39m.\u001b[39mastype(dtype, copy\u001b[39m=\u001b[39mcopy)\n",
      "\u001b[1;31mValueError\u001b[0m: could not convert string to float: '1,5': Error while type casting for column 'Total years of experience'"
     ]
    }
   ],
   "source": [
    "\n",
    "df = df.astype({\n",
    "    \"Total years of experience\":\"float64\",\n",
    "    \"Years of experience in Germany\":\"float64\",\n",
    "    \"Total years of experience\":'float64',\n",
    "    \"Annual brutto salary (without bonus and stocks) one year ago. Only answer if staying in the same country\":\"float64\",\n",
    "    \"Main language at work\":'category',\n",
    "\n",
    " })"
   ]
  },
  {
   "cell_type": "code",
   "execution_count": 16,
   "id": "bd8ee63f-5920-41b9-b040-9c3aa0e54e14",
   "metadata": {},
   "outputs": [
    {
     "name": "stdout",
     "output_type": "stream",
     "text": [
      "<class 'pandas.core.frame.DataFrame'>\n",
      "RangeIndex: 1253 entries, 0 to 1252\n",
      "Data columns (total 23 columns):\n",
      " #   Column                                                                                                                   Non-Null Count  Dtype  \n",
      "---  ------                                                                                                                   --------------  -----  \n",
      " 0   Timestamp                                                                                                                1253 non-null   object \n",
      " 1   Age                                                                                                                      1226 non-null   float64\n",
      " 2   Gender                                                                                                                   1243 non-null   object \n",
      " 3   City                                                                                                                     1253 non-null   object \n",
      " 4   Position                                                                                                                 1247 non-null   object \n",
      " 5   Total years of experience                                                                                                1237 non-null   object \n",
      " 6   Years of experience in Germany                                                                                           1221 non-null   object \n",
      " 7   Seniority level                                                                                                          1241 non-null   object \n",
      " 8   Your main technology / programming language                                                                              1126 non-null   object \n",
      " 9   Other technologies/programming languages you use often                                                                   1096 non-null   object \n",
      " 10  Yearly brutto salary (without bonus and stocks) in EUR                                                                   1253 non-null   float64\n",
      " 11  Yearly bonus + stocks in EUR                                                                                             829 non-null    object \n",
      " 12  Annual brutto salary (without bonus and stocks) one year ago. Only answer if staying in the same country                 885 non-null    float64\n",
      " 13  Annual bonus+stocks one year ago. Only answer if staying in same country                                                 614 non-null    object \n",
      " 14  Number of vacation days                                                                                                  1185 non-null   object \n",
      " 15  Employment status                                                                                                        1236 non-null   object \n",
      " 16  Сontract duration                                                                                                        1224 non-null   object \n",
      " 17  Main language at work                                                                                                    1237 non-null   object \n",
      " 18  Company size                                                                                                             1235 non-null   object \n",
      " 19  Company type                                                                                                             1228 non-null   object \n",
      " 20  Have you lost your job due to the coronavirus outbreak?                                                                  1233 non-null   object \n",
      " 21  Have you been forced to have a shorter working week (Kurzarbeit)? If yes, how many hours per week                        373 non-null    float64\n",
      " 22  Have you received additional monetary support from your employer due to Work From Home? If yes, how much in 2020 in EUR  462 non-null    object \n",
      "dtypes: float64(4), object(19)\n",
      "memory usage: 1.5 MB\n",
      "None\n"
     ]
    }
   ],
   "source": [
    "print(df.info(memory_usage='deep'))"
   ]
  },
  {
   "cell_type": "code",
   "execution_count": 17,
   "id": "614e1a59-3a80-461c-9384-71aeaf4f6ca5",
   "metadata": {
    "scrolled": true
   },
   "outputs": [
    {
     "data": {
      "text/html": [
       "<div>\n",
       "<style scoped>\n",
       "    .dataframe tbody tr th:only-of-type {\n",
       "        vertical-align: middle;\n",
       "    }\n",
       "\n",
       "    .dataframe tbody tr th {\n",
       "        vertical-align: top;\n",
       "    }\n",
       "\n",
       "    .dataframe thead th {\n",
       "        text-align: right;\n",
       "    }\n",
       "</style>\n",
       "<table border=\"1\" class=\"dataframe\">\n",
       "  <thead>\n",
       "    <tr style=\"text-align: right;\">\n",
       "      <th></th>\n",
       "      <th>count</th>\n",
       "      <th>mean</th>\n",
       "      <th>std</th>\n",
       "      <th>min</th>\n",
       "      <th>25%</th>\n",
       "      <th>50%</th>\n",
       "      <th>75%</th>\n",
       "      <th>max</th>\n",
       "    </tr>\n",
       "  </thead>\n",
       "  <tbody>\n",
       "    <tr>\n",
       "      <th>Age</th>\n",
       "      <td>1226.0</td>\n",
       "      <td>3.250979e+01</td>\n",
       "      <td>5.663804e+00</td>\n",
       "      <td>20.0</td>\n",
       "      <td>29.0</td>\n",
       "      <td>32.0</td>\n",
       "      <td>35.0</td>\n",
       "      <td>6.900000e+01</td>\n",
       "    </tr>\n",
       "    <tr>\n",
       "      <th>Yearly brutto salary (without bonus and stocks) in EUR</th>\n",
       "      <td>1253.0</td>\n",
       "      <td>8.027904e+07</td>\n",
       "      <td>2.825061e+09</td>\n",
       "      <td>10001.0</td>\n",
       "      <td>58800.0</td>\n",
       "      <td>70000.0</td>\n",
       "      <td>80000.0</td>\n",
       "      <td>1.000000e+11</td>\n",
       "    </tr>\n",
       "    <tr>\n",
       "      <th>Annual brutto salary (without bonus and stocks) one year ago. Only answer if staying in the same country</th>\n",
       "      <td>885.0</td>\n",
       "      <td>6.322459e+05</td>\n",
       "      <td>1.680508e+07</td>\n",
       "      <td>11000.0</td>\n",
       "      <td>55000.0</td>\n",
       "      <td>65000.0</td>\n",
       "      <td>75000.0</td>\n",
       "      <td>5.000000e+08</td>\n",
       "    </tr>\n",
       "    <tr>\n",
       "      <th>Have you been forced to have a shorter working week (Kurzarbeit)? If yes, how many hours per week</th>\n",
       "      <td>373.0</td>\n",
       "      <td>1.296783e+01</td>\n",
       "      <td>1.527517e+01</td>\n",
       "      <td>0.0</td>\n",
       "      <td>0.0</td>\n",
       "      <td>0.0</td>\n",
       "      <td>30.0</td>\n",
       "      <td>4.000000e+01</td>\n",
       "    </tr>\n",
       "  </tbody>\n",
       "</table>\n",
       "</div>"
      ],
      "text/plain": [
       "                                                     count          mean  \\\n",
       "Age                                                 1226.0  3.250979e+01   \n",
       "Yearly brutto salary (without bonus and stocks)...  1253.0  8.027904e+07   \n",
       "Annual brutto salary (without bonus and stocks)...   885.0  6.322459e+05   \n",
       "Have you been forced to have a shorter working ...   373.0  1.296783e+01   \n",
       "\n",
       "                                                             std      min  \\\n",
       "Age                                                 5.663804e+00     20.0   \n",
       "Yearly brutto salary (without bonus and stocks)...  2.825061e+09  10001.0   \n",
       "Annual brutto salary (without bonus and stocks)...  1.680508e+07  11000.0   \n",
       "Have you been forced to have a shorter working ...  1.527517e+01      0.0   \n",
       "\n",
       "                                                        25%      50%      75%  \\\n",
       "Age                                                    29.0     32.0     35.0   \n",
       "Yearly brutto salary (without bonus and stocks)...  58800.0  70000.0  80000.0   \n",
       "Annual brutto salary (without bonus and stocks)...  55000.0  65000.0  75000.0   \n",
       "Have you been forced to have a shorter working ...      0.0      0.0     30.0   \n",
       "\n",
       "                                                             max  \n",
       "Age                                                 6.900000e+01  \n",
       "Yearly brutto salary (without bonus and stocks)...  1.000000e+11  \n",
       "Annual brutto salary (without bonus and stocks)...  5.000000e+08  \n",
       "Have you been forced to have a shorter working ...  4.000000e+01  "
      ]
     },
     "execution_count": 17,
     "metadata": {},
     "output_type": "execute_result"
    }
   ],
   "source": [
    "numerical_feautures=df.select_dtypes(include=[np.number])\n",
    "numerical_feautures.describe().T\n"
   ]
  },
  {
   "cell_type": "markdown",
   "id": "950bc7d2",
   "metadata": {},
   "source": [
    "as we can see there is some outliers in Yearly brutto salary , Let's drop it!"
   ]
  },
  {
   "cell_type": "code",
   "execution_count": 18,
   "id": "6caa32c0",
   "metadata": {},
   "outputs": [
    {
     "name": "stdout",
     "output_type": "stream",
     "text": [
      "[   2   35  107  131  141  152  186  192  193  272  279  318  392  441\n",
      "  473  491  494  511  528  529  543  558  559  573  574  576  630  641\n",
      "  683  691  706  727  751  778  804  833  837  838  853  855  865  958\n",
      "  966  967  971  993 1008 1046 1051 1085 1142 1223 1242]\n"
     ]
    }
   ],
   "source": [
    "Q1 = np.percentile(df['Yearly brutto salary (without bonus and stocks) in EUR'], 25, method='midpoint')\n",
    "Q3 = np.percentile(df['Yearly brutto salary (without bonus and stocks) in EUR'], 75, method='midpoint')\n",
    "IQR = Q3 - Q1\n",
    "upper=Q3+1.5*IQR\n",
    "lower=Q1-1.5*IQR\n",
    "upper_array = np.where(df['Yearly brutto salary (without bonus and stocks) in EUR']>=upper)[0]\n",
    "lower_array = np.where(df['Yearly brutto salary (without bonus and stocks) in EUR']<=lower)[0]\n",
    "print(upper_array)\n",
    "df.drop(index=upper_array, inplace=True)\n",
    "df.drop(index=lower_array, inplace=True)"
   ]
  },
  {
   "cell_type": "code",
   "execution_count": 8,
   "id": "d70397a2-25d9-4931-a803-8e763e8e980c",
   "metadata": {},
   "outputs": [
    {
     "data": {
      "text/plain": [
       "Timestamp                                                                                                                   0.000000\n",
       "Age                                                                                                                         1.344086\n",
       "Gender                                                                                                                      0.448029\n",
       "City                                                                                                                        0.000000\n",
       "Position                                                                                                                    0.179211\n",
       "Total years of experience                                                                                                   0.000000\n",
       "Years of experience in Germany                                                                                              0.000000\n",
       "Seniority level                                                                                                             0.537634\n",
       "Your main technology / programming language                                                                                 8.512545\n",
       "Other technologies/programming languages you use often                                                                     10.752688\n",
       "Yearly brutto salary (without bonus and stocks) in EUR                                                                      0.000000\n",
       "Yearly bonus + stocks in EUR                                                                                               31.810036\n",
       "Annual brutto salary (without bonus and stocks) one year ago. Only answer if staying in the same country                   25.537634\n",
       "Annual bonus+stocks one year ago. Only answer if staying in same country                                                   48.207885\n",
       "Number of vacation days                                                                                                     0.000000\n",
       "Employment status                                                                                                           0.268817\n",
       "Сontract duration                                                                                                           0.806452\n",
       "Main language at work                                                                                                       0.358423\n",
       "Company size                                                                                                                0.179211\n",
       "Company type                                                                                                                0.716846\n",
       "Have you lost your job due to the coronavirus outbreak?                                                                     0.537634\n",
       "Have you been forced to have a shorter working week (Kurzarbeit)? If yes, how many hours per week                          69.086022\n",
       "Have you received additional monetary support from your employer due to Work From Home? If yes, how much in 2020 in EUR    62.096774\n",
       "dtype: float64"
      ]
     },
     "execution_count": 8,
     "metadata": {},
     "output_type": "execute_result"
    }
   ],
   "source": [
    "percentage=df.isna().sum()/len(df)*100\n",
    "percentage"
   ]
  },
  {
   "cell_type": "code",
   "execution_count": 9,
   "id": "d83e112a",
   "metadata": {},
   "outputs": [
    {
     "data": {
      "text/plain": [
       "Timestamp                                                                                                                    0\n",
       "Age                                                                                                                         15\n",
       "Gender                                                                                                                       5\n",
       "City                                                                                                                         0\n",
       "Position                                                                                                                     2\n",
       "Total years of experience                                                                                                    0\n",
       "Years of experience in Germany                                                                                               0\n",
       "Seniority level                                                                                                              6\n",
       "Your main technology / programming language                                                                                 95\n",
       "Other technologies/programming languages you use often                                                                     120\n",
       "Yearly brutto salary (without bonus and stocks) in EUR                                                                       0\n",
       "Yearly bonus + stocks in EUR                                                                                               355\n",
       "Annual brutto salary (without bonus and stocks) one year ago. Only answer if staying in the same country                   285\n",
       "Annual bonus+stocks one year ago. Only answer if staying in same country                                                   538\n",
       "Number of vacation days                                                                                                      0\n",
       "Employment status                                                                                                            3\n",
       "Сontract duration                                                                                                            9\n",
       "Main language at work                                                                                                        4\n",
       "Company size                                                                                                                 2\n",
       "Company type                                                                                                                 8\n",
       "Have you lost your job due to the coronavirus outbreak?                                                                      6\n",
       "Have you been forced to have a shorter working week (Kurzarbeit)? If yes, how many hours per week                          771\n",
       "Have you received additional monetary support from your employer due to Work From Home? If yes, how much in 2020 in EUR    693\n",
       "dtype: int64"
      ]
     },
     "execution_count": 9,
     "metadata": {},
     "output_type": "execute_result"
    }
   ],
   "source": [
    "df.isnull().sum()"
   ]
  },
  {
   "cell_type": "markdown",
   "id": "c6c3fe0c-12f0-4b39-91cf-691bbd9b00c8",
   "metadata": {},
   "source": [
    "# Observation\n",
    "- Age varies from 20 to 66 and the mean age is 32\n",
    "- "
   ]
  },
  {
   "cell_type": "code",
   "execution_count": 10,
   "id": "9a80addf-2e2e-45eb-abb8-66f32b2cf767",
   "metadata": {},
   "outputs": [
    {
     "data": {
      "text/plain": [
       "0"
      ]
     },
     "execution_count": 10,
     "metadata": {},
     "output_type": "execute_result"
    }
   ],
   "source": [
    "df.duplicated().sum()"
   ]
  },
  {
   "cell_type": "markdown",
   "id": "76b59381-f262-487d-ae58-27501245b24a",
   "metadata": {},
   "source": [
    "# What question do we want to ask of the data?\n",
    "- What is the distribution of ages among the respondents?\n",
    "- How is the gender distribution in the dataset?\n",
    "- What are the different cities represented in the dataset?\n",
    "- How many vacation days do respondents typically have?\n",
    "- What is the main language spoken at work for respondents?\n",
    "- Does total years of experience increase salary?\n",
    "\n"
   ]
  },
  {
   "cell_type": "code",
   "execution_count": 13,
   "id": "2977ed47-616d-43c6-b9b6-bc3f671d94c0",
   "metadata": {},
   "outputs": [
    {
     "data": {
      "text/plain": [
       "count    1226.000000\n",
       "mean       32.509788\n",
       "std         5.663804\n",
       "min        20.000000\n",
       "25%        29.000000\n",
       "50%        32.000000\n",
       "75%        35.000000\n",
       "max        69.000000\n",
       "Name: Age, dtype: float64"
      ]
     },
     "execution_count": 13,
     "metadata": {},
     "output_type": "execute_result"
    }
   ],
   "source": [
    "df['Age'].describe()"
   ]
  },
  {
   "cell_type": "code",
   "execution_count": 39,
   "id": "e25c0b4d-0ed1-4caf-9679-e027a8d516a5",
   "metadata": {},
   "outputs": [
    {
     "data": {
      "image/png": "[encoded data removed]",
      "text/plain": [
       "<Figure size 640x480 with 1 Axes>"
      ]
     },
     "metadata": {},
     "output_type": "display_data"
    }
   ],
   "source": [
    "ax = sns.countplot(x=\"Age\",data=df)\n",
    "a=ax.set_xticklabels(ax.get_xticklabels(),rotation=90)\n"
   ]
  },
  {
   "cell_type": "code",
   "execution_count": 53,
   "id": "b09d76ff-71cb-47dc-8f25-970a771d8c53",
   "metadata": {},
   "outputs": [
    {
     "data": {
      "image/png": "[encoded data removed]",
      "text/plain": [
       "<Figure size 800x800 with 1 Axes>"
      ]
     },
     "metadata": {},
     "output_type": "display_data"
    }
   ],
   "source": [
    "df[\"Gender\"].value_counts().plot.pie(explode=[0.05, 0.05,0.05], autopct='%1.1f%%',labels=['','',''], shadow=True, figsize=(8,8))\n",
    "plt.title('Pie Chart for Class')\n",
    "plt.legend(loc='upper left',labels=df['Gender'].value_counts().index)\n",
    "plt.show()"
   ]
  },
  {
   "cell_type": "code",
   "execution_count": 50,
   "id": "fef92e91-cea4-4feb-8769-5298be2063fa",
   "metadata": {},
   "outputs": [
    {
     "data": {
      "image/png": "[encoded data removed]",
      "text/plain": [
       "<Figure size 800x800 with 1 Axes>"
      ]
     },
     "metadata": {},
     "output_type": "display_data"
    }
   ],
   "source": [
    "df[\"City\"].value_counts().iloc[:5].plot.pie(explode=[0.05, 0.05,0.05,0.05,0.05],autopct='%1.5f%%',shadow=True,labels=['']*5, figsize=(8,8))\n",
    "plt.title('Pie Chart for Class')\n",
    "plt.legend(loc='upper left',labels=df['City'].value_counts().iloc[:5].index)\n",
    "plt.show()"
   ]
  },
  {
   "cell_type": "code",
   "execution_count": 20,
   "id": "70b39381-eaf2-4ac8-8622-c5186f0776de",
   "metadata": {},
   "outputs": [
    {
     "data": {
      "image/png": "[encoded data removed]",
      "text/plain": [
       "<Figure size 640x480 with 1 Axes>"
      ]
     },
     "metadata": {},
     "output_type": "display_data"
    }
   ],
   "source": [
    "\n",
    "sns.boxplot(df[\"Yearly brutto salary (without bonus and stocks) in EUR\"])\n",
    "plt.show()"
   ]
  },
  {
   "cell_type": "code",
   "execution_count": null,
   "id": "e055b726",
   "metadata": {},
   "outputs": [],
   "source": []
  }
 ],
 "metadata": {
  "kernelspec": {
   "display_name": "Python 3 (ipykernel)",
   "language": "python",
   "name": "python3"
  },
  "language_info": {
   "codemirror_mode": {
    "name": "ipython",
    "version": 3
   },
   "file_extension": ".py",
   "mimetype": "text/x-python",
   "name": "python",
   "nbconvert_exporter": "python",
   "pygments_lexer": "ipython3",
   "version": "3.10.12"
  }
 },
 "nbformat": 4,
 "nbformat_minor": 5
}
